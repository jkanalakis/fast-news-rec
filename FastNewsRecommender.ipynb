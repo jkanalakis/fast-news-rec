{
  "nbformat": 4,
  "nbformat_minor": 0,
  "metadata": {
    "colab": {
      "provenance": []
    },
    "kernelspec": {
      "name": "python3",
      "display_name": "Python 3"
    },
    "language_info": {
      "name": "python"
    }
  },
  "cells": [
    {
      "cell_type": "code",
      "execution_count": null,
      "metadata": {
        "collapsed": true,
        "id": "zdFJGqQKfVzm"
      },
      "outputs": [],
      "source": [
        "!pip install fastapi uvicorn faiss-cpu transformers datasets sentence-transformers torch"
      ]
    },
    {
      "cell_type": "code",
      "source": [
        "from fastapi import FastAPI\n",
        "from pydantic import BaseModel\n",
        "import faiss\n",
        "import numpy as np\n",
        "from sentence_transformers import SentenceTransformer\n",
        "from datasets import load_dataset\n",
        "\n",
        "# Initialize FastAPI app\n",
        "app = FastAPI()\n",
        "\n",
        "# Load pre-trained sentence embedding model (MiniLM-BERT)\n",
        "model = SentenceTransformer(\"sentence-transformers/all-MiniLM-L6-v2\")\n",
        "\n",
        "# Load dataset (AG News)\n",
        "dataset = load_dataset(\"ag_news\")\n",
        "#news_articles = [article[\"text\"] for article in dataset[\"train\"][:1000]]  # Sample 1000 articles\n",
        "news_articles = [article[\"text\"] for article in dataset[\"train\"].select(range(1000))]\n",
        "\n",
        "# Convert news articles into embeddings\n",
        "article_embeddings = model.encode(news_articles, show_progress_bar=True)\n",
        "\n",
        "# Create FAISS index\n",
        "d = article_embeddings.shape[1]  # Embedding dimensions\n",
        "index = faiss.IndexFlatL2(d)\n",
        "index.add(np.array(article_embeddings))\n",
        "\n",
        "# Request model for API\n",
        "class NewsRequest(BaseModel):\n",
        "    article_text: str\n",
        "    top_k: int = 5\n",
        "\n",
        "# API endpoint: Recommend similar articles\n",
        "@app.post(\"/recommend\")\n",
        "def recommend_articles(request: NewsRequest):\n",
        "    # Convert input article to embedding\n",
        "    article_embedding = model.encode([request.article_text])\n",
        "\n",
        "    # Search for nearest neighbors\n",
        "    distances, indices = index.search(np.array(article_embedding), request.top_k)\n",
        "\n",
        "    # Retrieve recommended articles\n",
        "    recommended_articles = [news_articles[i] for i in indices[0]]\n",
        "\n",
        "    return {\"input_article\": request.article_text, \"recommendations\": recommended_articles}\n",
        "\n",
        "# Run with: uvicorn app:app --host 0.0.0.0 --port 8000"
      ],
      "metadata": {
        "collapsed": true,
        "id": "eswHRvrIfkWc"
      },
      "execution_count": null,
      "outputs": []
    },
    {
      "cell_type": "markdown",
      "source": [
        "\n",
        "# Request from Endpoint\n",
        "\n",
        "**HTTP POST:** [ngrok API Endpoint](https://347b-34-83-136-115.ngrok-free.app/)\n",
        "\n",
        "**Request Body:** `{\"article_text\": \"Stock market crashes due to inflation\", \"top_k\": 5}`"
      ],
      "metadata": {
        "id": "rw09rdMc5zCv"
      }
    },
    {
      "cell_type": "code",
      "source": [
        "!pip install pyngrok\n",
        "!ngrok config add-authtoken <YOU_NGROK_TOKEN>\n",
        "\n",
        "import uvicorn\n",
        "from pyngrok import ngrok\n",
        "import nest_asyncio\n",
        "\n",
        "# Allow running FastAPI inside Jupyter/Colab\n",
        "nest_asyncio.apply()\n",
        "\n",
        "# Start FastAPI server in the background\n",
        "port = 8000\n",
        "public_url = ngrok.connect(port).public_url\n",
        "print(f\"FastAPI is running on {public_url}\")\n",
        "\n",
        "# Run FastAPI app\n",
        "uvicorn.run(app, host=\"0.0.0.0\", port=port)"
      ],
      "metadata": {
        "collapsed": true,
        "id": "5fMmg2ldrVG_"
      },
      "execution_count": null,
      "outputs": []
    }
  ]
}
